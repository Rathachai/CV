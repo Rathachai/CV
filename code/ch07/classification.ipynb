{
  "nbformat": 4,
  "nbformat_minor": 0,
  "metadata": {
    "colab": {
      "name": "CH-07 DA-BOOK.ipynb",
      "provenance": [],
      "authorship_tag": "ABX9TyPwVOPQjyzBt977n7obdaSa",
      "include_colab_link": true
    },
    "kernelspec": {
      "name": "python3",
      "display_name": "Python 3"
    },
    "language_info": {
      "name": "python"
    }
  },
  "cells": [
    {
      "cell_type": "markdown",
      "metadata": {
        "id": "view-in-github",
        "colab_type": "text"
      },
      "source": [
        "<a href=\"https://colab.research.google.com/github/Rathachai/CV/blob/gh-pages/code/ch07/classification.ipynb\" target=\"_parent\"><img src=\"https://colab.research.google.com/assets/colab-badge.svg\" alt=\"Open In Colab\"/></a>"
      ]
    },
    {
      "cell_type": "markdown",
      "source": [
        "# Data Analytics Book : CODE\n",
        "\n",
        "**ISBN** : 978-616-338-169-9\n",
        "\n",
        "**Author** : Rathachai Chawuthai\n",
        "\n",
        "**Year** : 2022\n",
        "\n",
        "**Copyright** © by KMITL\n",
        "\n",
        "**Link** : https://github.com/Rathachai/DA-LAB\n",
        "\n",
        "\n",
        "\n",
        "---\n"
      ],
      "metadata": {
        "id": "LS3gSdXjR3aL"
      }
    },
    {
      "cell_type": "markdown",
      "source": [
        "## **Chapter 7 : Classification Analytics**\n",
        "\n",
        "\n",
        "---"
      ],
      "metadata": {
        "id": "Ny2WYJEyR9WI"
      }
    },
    {
      "cell_type": "markdown",
      "source": [
        "### Classification"
      ],
      "metadata": {
        "id": "I_Bf484sSATP"
      }
    },
    {
      "cell_type": "code",
      "execution_count": 1,
      "metadata": {
        "id": "mpnqhWC1R05F"
      },
      "outputs": [],
      "source": [
        "import numpy as np\n",
        "import pandas as pd\n",
        "\n",
        "from sklearn.tree import DecisionTreeClassifier\n",
        "from sklearn.linear_model import LogisticRegression\n",
        "\n",
        "from sklearn.naive_bayes import GaussianNB\n",
        "from sklearn.neighbors import KNeighborsClassifier\n",
        "from sklearn.neural_network import MLPClassifier\n",
        "\n",
        "from sklearn.model_selection import KFold\n",
        "\n",
        "from sklearn.metrics import accuracy_score"
      ]
    },
    {
      "cell_type": "code",
      "source": [
        "# step: 1\n",
        "csv_path = \"https://rathachai.github.io/DA-LAB/datasets/simple-veh-class.csv\"\n",
        "df = pd.read_csv(csv_path)"
      ],
      "metadata": {
        "id": "NXnevHC2SH9n"
      },
      "execution_count": 2,
      "outputs": []
    },
    {
      "cell_type": "code",
      "source": [
        "# step: 2\n",
        "X = df[['weight_kg', 'height_m', 'n_wheels']]\n",
        "y = df['vtype']"
      ],
      "metadata": {
        "id": "v54jhvM6SKiL"
      },
      "execution_count": 3,
      "outputs": []
    },
    {
      "cell_type": "code",
      "source": [
        "# step: 3 (n/a)"
      ],
      "metadata": {
        "id": "p7RDYIC2SL-t"
      },
      "execution_count": 4,
      "outputs": []
    },
    {
      "cell_type": "code",
      "source": [
        "# step: 4\n",
        "#  step: 4.1\n",
        "envs={}\n",
        "envs[\"LR\"] = LogisticRegression()\n",
        "envs[\"DT\"] = DecisionTreeClassifier()\n",
        "envs[\"NB\"] = GaussianNB()\n",
        "envs[\"KNN (k3)\"] = KNeighborsClassifier(n_neighbors=3)\n",
        "envs[\"KNN (k5)\"] = KNeighborsClassifier(n_neighbors=5)\n",
        "envs[\"ANN (h10)\"] = MLPClassifier(hidden_layer_sizes=(10,), activation='logistic', max_iter=5000)\n",
        "envs[\"ANN (h100)\"] = MLPClassifier(hidden_layer_sizes=(100,), activation='logistic', max_iter=5000)"
      ],
      "metadata": {
        "id": "EGngFCU5SRr9"
      },
      "execution_count": 5,
      "outputs": []
    },
    {
      "cell_type": "code",
      "source": [
        "env_results = {} # for storing results\n",
        "\n",
        "for env_name in envs.keys():\n",
        "\n",
        "  acc_list = [] # for storing accuracy in each fold \n",
        "\n",
        "  #  step: 4.2\n",
        "  kf = KFold(n_splits=4)\n",
        "\n",
        "  for train_index, test_index in kf.split(X):\n",
        "\n",
        "    #  step: 4.2.1\n",
        "    X_train, X_test = X.loc[train_index], X.loc[test_index]\n",
        "    y_train, y_test = y[train_index], y[test_index]\n",
        "\n",
        "    #  step: 4.2.2 (n/a)\n",
        "\n",
        "    #  step: 4.2.3\n",
        "    model = envs[env_name].fit(X_train, y_train)\n",
        "\n",
        "    #  step: 4.2.4\n",
        "    y_pred = model.predict(X_test)\n",
        "\n",
        "    #  step: 4.2.5\n",
        "    acc = accuracy_score(y_test, y_pred)\n",
        "    acc_list.append(acc)\n",
        "\n",
        "  # step: 4.3\n",
        "  acc_mean = np.mean(acc_list)\n",
        "  env_results[env_name] = round(acc_mean,3)"
      ],
      "metadata": {
        "id": "bp12U0HKSUTz"
      },
      "execution_count": 6,
      "outputs": []
    },
    {
      "cell_type": "code",
      "source": [
        "# step: 5\n",
        "print(env_results)"
      ],
      "metadata": {
        "colab": {
          "base_uri": "https://localhost:8080/"
        },
        "id": "jzKTDxgYSXO5",
        "outputId": "dbdfbe35-47a1-4adb-8c4d-f4f0ecfae3b8"
      },
      "execution_count": 7,
      "outputs": [
        {
          "output_type": "stream",
          "name": "stdout",
          "text": [
            "{'LR': 0.1, 'DT': 1.0, 'NB': 0.95, 'KNN (k3)': 0.85, 'KNN (k5)': 0.6, 'ANN (h10)': 0.05, 'ANN (h100)': 0.4}\n"
          ]
        }
      ]
    },
    {
      "cell_type": "code",
      "source": [
        "# step: 6\n",
        "model = envs['NB'].fit(X,y)"
      ],
      "metadata": {
        "id": "cXZ8YBsVSY3X"
      },
      "execution_count": 8,
      "outputs": []
    },
    {
      "cell_type": "code",
      "source": [
        "# step: 7\n",
        "import pickle"
      ],
      "metadata": {
        "id": "5K9LoT8VSbdo"
      },
      "execution_count": 9,
      "outputs": []
    },
    {
      "cell_type": "code",
      "source": [
        "filename = 'clf.model'\n",
        "pickle.dump(model, open(filename, 'wb'))"
      ],
      "metadata": {
        "id": "lH0CXUVKSc-u"
      },
      "execution_count": 10,
      "outputs": []
    },
    {
      "cell_type": "markdown",
      "source": [
        "\n",
        "\n",
        "---\n",
        "\n"
      ],
      "metadata": {
        "id": "vD54xWCQSd4C"
      }
    },
    {
      "cell_type": "markdown",
      "source": [
        "https://rathachai.creatier.pro/"
      ],
      "metadata": {
        "id": "EmeSshuSShN_"
      }
    }
  ]
}