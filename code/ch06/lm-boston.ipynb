{
  "nbformat": 4,
  "nbformat_minor": 0,
  "metadata": {
    "colab": {
      "name": "CH-06 DA-BOOK.ipynb",
      "provenance": [],
      "authorship_tag": "ABX9TyNrO7isW9fUywJ0g6/t97mp",
      "include_colab_link": true
    },
    "kernelspec": {
      "name": "python3",
      "display_name": "Python 3"
    },
    "language_info": {
      "name": "python"
    }
  },
  "cells": [
    {
      "cell_type": "markdown",
      "metadata": {
        "id": "view-in-github",
        "colab_type": "text"
      },
      "source": [
        "<a href=\"https://colab.research.google.com/github/Rathachai/CV/blob/gh-pages/code/ch06/lm-boston.ipynb\" target=\"_parent\"><img src=\"https://colab.research.google.com/assets/colab-badge.svg\" alt=\"Open In Colab\"/></a>"
      ]
    },
    {
      "cell_type": "markdown",
      "source": [
        "# Data Analytics Book : CODE\n",
        "\n",
        "**ISBN** : 978-616-338-169-9\n",
        "\n",
        "**Author** : Rathachai Chawuthai\n",
        "\n",
        "**Year** : 2022\n",
        "\n",
        "**Copyright** © by KMITL\n",
        "\n",
        "**Link** : https://github.com/Rathachai/DA-LAB\n",
        "\n",
        "\n",
        "\n",
        "---\n"
      ],
      "metadata": {
        "id": "HBE8LCaKOyZT"
      }
    },
    {
      "cell_type": "markdown",
      "source": [
        "## **Chapter 6 : Regression Analytics**\n",
        "\n",
        "\n",
        "---"
      ],
      "metadata": {
        "id": "-g6LdY0qO3SN"
      }
    },
    {
      "cell_type": "markdown",
      "source": [
        "### Linear Regression : Learning\n"
      ],
      "metadata": {
        "id": "Oppd0_IpO-J-"
      }
    },
    {
      "cell_type": "code",
      "execution_count": 1,
      "metadata": {
        "id": "BXe5C1AIOvx6"
      },
      "outputs": [],
      "source": [
        "import pandas as pd"
      ]
    },
    {
      "cell_type": "code",
      "source": [
        "df = pd.read_csv('https://rathachai.github.io/DA-LAB/datasets/boston.csv')"
      ],
      "metadata": {
        "id": "m4mZlNP9PC9b"
      },
      "execution_count": 2,
      "outputs": []
    },
    {
      "cell_type": "code",
      "source": [
        "df.corr().sort_values(\"medv\")[\"medv\"]"
      ],
      "metadata": {
        "colab": {
          "base_uri": "https://localhost:8080/"
        },
        "id": "d0uYk3lNPFTX",
        "outputId": "55f8abd4-a192-49b5-a300-ff4845610164"
      },
      "execution_count": 3,
      "outputs": [
        {
          "output_type": "execute_result",
          "data": {
            "text/plain": [
              "lstat     -0.737663\n",
              "ptratio   -0.507787\n",
              "indus     -0.483725\n",
              "tax       -0.468536\n",
              "nox       -0.427321\n",
              "crim      -0.388305\n",
              "rad       -0.381626\n",
              "age       -0.376955\n",
              "chas       0.175260\n",
              "dis        0.249929\n",
              "black      0.333461\n",
              "zn         0.360445\n",
              "rm         0.695360\n",
              "medv       1.000000\n",
              "Name: medv, dtype: float64"
            ]
          },
          "metadata": {},
          "execution_count": 3
        }
      ]
    },
    {
      "cell_type": "code",
      "source": [
        "X = df[[\"lstat\",\"rm\"]]\n",
        "y = df[\"medv\"]"
      ],
      "metadata": {
        "id": "UL4TOe_wPHok"
      },
      "execution_count": 4,
      "outputs": []
    },
    {
      "cell_type": "code",
      "source": [
        "from sklearn.model_selection import KFold\n",
        "from sklearn.preprocessing import StandardScaler\n",
        "from sklearn.linear_model import LinearRegression\n",
        "from sklearn.metrics import mean_squared_error"
      ],
      "metadata": {
        "id": "RgaToy6SPKKs"
      },
      "execution_count": 5,
      "outputs": []
    },
    {
      "cell_type": "code",
      "source": [
        "kf = KFold(n_splits=5)"
      ],
      "metadata": {
        "id": "9KCboamhPOTz"
      },
      "execution_count": 6,
      "outputs": []
    },
    {
      "cell_type": "code",
      "source": [
        "round_num = 1\n",
        "RMSEs = []"
      ],
      "metadata": {
        "id": "JO1SR8RLPPyz"
      },
      "execution_count": 7,
      "outputs": []
    },
    {
      "cell_type": "code",
      "source": [
        "for train_index, test_index in kf.split(X):\n",
        "\n",
        "  X_train, X_test = X.loc[train_index], X.loc[test_index]\n",
        "  y_train, y_test = y.loc[train_index], y.loc[test_index]\n",
        "\n",
        "  scaler = StandardScaler().fit(X_train)\n",
        "  X_train_scaled = scaler.transform(X_train)\n",
        "\n",
        "  model = LinearRegression()\n",
        "  model.fit(X_train_scaled,y_train)\n",
        "\n",
        "  X_test_scaled = scaler.transform(X_test)\n",
        "  y_pred = model.predict(X_test_scaled)\n",
        "\n",
        "  rmse = mean_squared_error(y_test, y_pred, squared=False)\n",
        "\n",
        "  print(\"Round\",round_num, \"  RMSE = \", rmse)\n",
        "  round_num += 1\n",
        "\n",
        "  RMSEs.append(rmse)"
      ],
      "metadata": {
        "colab": {
          "base_uri": "https://localhost:8080/"
        },
        "id": "NyRWT4dlPTTQ",
        "outputId": "9f78b716-7e47-4ee6-a956-75e97210cb56"
      },
      "execution_count": 8,
      "outputs": [
        {
          "output_type": "stream",
          "name": "stdout",
          "text": [
            "Round 1   RMSE =  3.4334812964064674\n",
            "Round 2   RMSE =  5.38257925986846\n",
            "Round 3   RMSE =  6.916932761257809\n",
            "Round 4   RMSE =  8.471749419076824\n",
            "Round 5   RMSE =  6.050613943678815\n"
          ]
        }
      ]
    },
    {
      "cell_type": "code",
      "source": [
        "import numpy as np"
      ],
      "metadata": {
        "id": "GBFyxCktPkGo"
      },
      "execution_count": 9,
      "outputs": []
    },
    {
      "cell_type": "code",
      "source": [
        "rmse_mean = np.array(RMSEs).mean()\n",
        "\n",
        "print(\"Mean of RMSE = \", rmse_mean)"
      ],
      "metadata": {
        "colab": {
          "base_uri": "https://localhost:8080/"
        },
        "id": "Aih-1zbcPi6R",
        "outputId": "a66348c2-2c29-4ea6-9b04-e20e9a95dc4e"
      },
      "execution_count": 10,
      "outputs": [
        {
          "output_type": "stream",
          "name": "stdout",
          "text": [
            "Mean of RMSE =  6.051071336057675\n"
          ]
        }
      ]
    },
    {
      "cell_type": "markdown",
      "source": [
        "\n",
        "\n",
        "---\n",
        "\n"
      ],
      "metadata": {
        "id": "uONV0GlVP1IE"
      }
    },
    {
      "cell_type": "markdown",
      "source": [
        "### Linear Regression : Build a final model"
      ],
      "metadata": {
        "id": "pwlECD-KP2DY"
      }
    },
    {
      "cell_type": "code",
      "source": [
        "import pandas as pd\n",
        "from sklearn.preprocessing import StandardScaler\n",
        "from sklearn.linear_model import LinearRegression"
      ],
      "metadata": {
        "id": "aT3wmj8KPu2H"
      },
      "execution_count": 11,
      "outputs": []
    },
    {
      "cell_type": "code",
      "source": [
        "df = pd.read_csv('https://rathachai.github.io/DA-LAB/datasets/boston.csv')"
      ],
      "metadata": {
        "id": "TW_SIEcFQKQ8"
      },
      "execution_count": 12,
      "outputs": []
    },
    {
      "cell_type": "code",
      "source": [
        "X = df[[\"lstat\",\"rm\"]]\n",
        "y = df[\"medv\"]"
      ],
      "metadata": {
        "id": "PV38o1AsQLzb"
      },
      "execution_count": 13,
      "outputs": []
    },
    {
      "cell_type": "code",
      "source": [
        "scaler = StandardScaler().fit(X)\n",
        "X_scaled = scaler.transform(X)"
      ],
      "metadata": {
        "id": "z-UUDyTvQNDe"
      },
      "execution_count": 14,
      "outputs": []
    },
    {
      "cell_type": "code",
      "source": [
        "model = LinearRegression()\n",
        "model.fit(X_scaled, y)"
      ],
      "metadata": {
        "id": "ajKhC8dxQOhn",
        "outputId": "efea954b-a6dc-407a-9e6f-7f51454cc319",
        "colab": {
          "base_uri": "https://localhost:8080/"
        }
      },
      "execution_count": 15,
      "outputs": [
        {
          "output_type": "execute_result",
          "data": {
            "text/plain": [
              "LinearRegression()"
            ]
          },
          "metadata": {},
          "execution_count": 15
        }
      ]
    },
    {
      "cell_type": "code",
      "source": [
        "print(\"Features :\", X.columns.tolist())\n",
        "print(\"Coefficients:\", model.coef_)\n",
        "print(\"Intercept :\", model.intercept_)"
      ],
      "metadata": {
        "id": "EK7evapzQRnj",
        "outputId": "1dce1874-c107-430e-94ec-b8bb7a2f5e6c",
        "colab": {
          "base_uri": "https://localhost:8080/"
        }
      },
      "execution_count": 16,
      "outputs": [
        {
          "output_type": "stream",
          "name": "stdout",
          "text": [
            "Features : ['lstat', 'rm']\n",
            "Coefficients: [-4.58258541  3.57614639]\n",
            "Intercept : 22.532806324110677\n"
          ]
        }
      ]
    },
    {
      "cell_type": "markdown",
      "source": [
        "\n",
        "\n",
        "---\n",
        "\n"
      ],
      "metadata": {
        "id": "1MiezqueQwiD"
      }
    },
    {
      "cell_type": "markdown",
      "source": [
        "https://rathachai.creatier.pro/"
      ],
      "metadata": {
        "id": "m0YzZvU7Qx6Z"
      }
    }
  ]
}